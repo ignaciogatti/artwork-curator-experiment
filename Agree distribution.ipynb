{
 "cells": [
  {
   "cell_type": "code",
   "execution_count": null,
   "metadata": {},
   "outputs": [],
   "source": [
    "import numpy as np\n",
    "import pandas as pd\n",
    "import matplotlib.pyplot as plt\n",
    "import matplotlib.pylab as plb\n",
    "import seaborn as sns"
   ]
  },
  {
   "cell_type": "markdown",
   "metadata": {},
   "source": [
    "## Load Data"
   ]
  },
  {
   "cell_type": "code",
   "execution_count": null,
   "metadata": {},
   "outputs": [],
   "source": [
    "df_data = pd.read_csv('ratings.csv')\n",
    "df_data.head()"
   ]
  },
  {
   "cell_type": "markdown",
   "metadata": {},
   "source": [
    "**Split data by approach**"
   ]
  },
  {
   "cell_type": "code",
   "execution_count": null,
   "metadata": {},
   "outputs": [],
   "source": [
    "encode_config = {\n",
    "    'name': 'Autoencoder algorithm',\n",
    "    'type': 'encode',\n",
    "    'base_path': './encode_data'\n",
    "}\n",
    "\n",
    "social_graph_config = {\n",
    "    'name': 'Autoencoder + Social graph data',\n",
    "    'type': 'social_graph',\n",
    "    'base_path': './social_graph_data'\n",
    "}\n",
    "\n",
    "content_based_config = {\n",
    "    'name': 'Content based data',\n",
    "    'type': 'contentBased',\n",
    "    'base_path': './content_based_data'\n",
    "}\n",
    "\n",
    "experiment_config = encode_config"
   ]
  },
  {
   "cell_type": "code",
   "execution_count": null,
   "metadata": {},
   "outputs": [],
   "source": [
    "df_data_experiment = df_data[df_data['experimentType'] == experiment_config['type']]\n",
    "print( experiment_config['name'] +' shape: '+ str(df_data_experiment.shape) )"
   ]
  },
  {
   "cell_type": "markdown",
   "metadata": {},
   "source": [
    "## Plot Agree distribution"
   ]
  },
  {
   "cell_type": "code",
   "execution_count": null,
   "metadata": {},
   "outputs": [],
   "source": [
    "def group_by_artwork(df_data):\n",
    "\n",
    "    df_artworks = df_data.groupby(['sourceArtworkId', 'ratedArtworkId','rating']).agg({'id':'count'})\n",
    "    df_artworks = df_artworks.rename(columns={'id':'count'})\n",
    "    df_artworks = df_artworks.reset_index()\n",
    "    return df_artworks"
   ]
  },
  {
   "cell_type": "code",
   "execution_count": null,
   "metadata": {},
   "outputs": [],
   "source": [
    "df_data_to_plot = group_by_artwork(df_data_experiment)\n",
    "df_data_to_plot.head()"
   ]
  },
  {
   "cell_type": "markdown",
   "metadata": {},
   "source": [
    "**Get reference artworks id**"
   ]
  },
  {
   "cell_type": "code",
   "execution_count": null,
   "metadata": {},
   "outputs": [],
   "source": [
    "reference_artworks = df_data_to_plot['sourceArtworkId'].unique()\n",
    "reference_artworks"
   ]
  },
  {
   "cell_type": "code",
   "execution_count": null,
   "metadata": {},
   "outputs": [],
   "source": [
    "nrows = 3\n",
    "ncols = 2\n",
    "fig, axs = plt.subplots(nrows=nrows, ncols=ncols, figsize=(15,15))\n",
    "sns.set(style=\"whitegrid\")\n",
    "\n",
    "i = 0\n",
    "j = 0\n",
    "\n",
    "for artwork_id in reference_artworks:\n",
    "    df = df_data_to_plot[df_data_to_plot['sourceArtworkId']==artwork_id]\n",
    "    ax = sns.barplot(x='ratedArtworkId', y='count', hue='rating', data=df, ax=axs[i,j])\n",
    "\n",
    "    ax.set_title('Reference artwork id: '+ str(artwork_id), fontdict={'fontsize': 14, 'fontweight': 'medium'})\n",
    "    ax.set_xticklabels(ax.get_xticklabels(), rotation=90)\n",
    "    \n",
    "    if j < ncols - 1 :\n",
    "        j += 1\n",
    "    else:\n",
    "        i += 1\n",
    "        j = 0\n",
    "\n",
    "fig.tight_layout()\n",
    "plt.show()"
   ]
  },
  {
   "cell_type": "markdown",
   "metadata": {},
   "source": [
    "**Save plot**"
   ]
  },
  {
   "cell_type": "code",
   "execution_count": null,
   "metadata": {},
   "outputs": [],
   "source": [
    "fig.savefig(experiment_config['type'] +\"_agree_dist.png\", dpi=100)"
   ]
  },
  {
   "cell_type": "markdown",
   "metadata": {},
   "source": [
    "**Plot individual artwork**"
   ]
  },
  {
   "cell_type": "code",
   "execution_count": null,
   "metadata": {},
   "outputs": [],
   "source": [
    "fig = plt.figure(figsize=(12,10))\n",
    "\n",
    "df = df_data_to_plot[df_data_to_plot['sourceArtworkId']==7066]\n",
    "ax = sns.barplot(x='ratedArtworkId', y='count', hue='rating', data=df)\n",
    "\n",
    "ax.set_title(experiment_config['name']+ ': Agree/Disagree distribution', fontdict={'fontsize': 14, 'fontweight': 'medium'})\n",
    "ax.set_xticklabels(ax.get_xticklabels(), rotation=90)\n",
    "\n",
    "plt.show()"
   ]
  },
  {
   "cell_type": "code",
   "execution_count": null,
   "metadata": {},
   "outputs": [],
   "source": [
    "fig.savefig(experiment_config['type'] +\"_agree_dist_7066.png\", dpi=100)"
   ]
  },
  {
   "cell_type": "code",
   "execution_count": null,
   "metadata": {},
   "outputs": [],
   "source": []
  },
  {
   "cell_type": "markdown",
   "metadata": {},
   "source": [
    "## Precision recall metrics"
   ]
  },
  {
   "cell_type": "code",
   "execution_count": null,
   "metadata": {},
   "outputs": [],
   "source": [
    "from sklearn.metrics import precision_recall_fscore_support, average_precision_score, precision_recall_curve"
   ]
  },
  {
   "cell_type": "code",
   "execution_count": null,
   "metadata": {},
   "outputs": [],
   "source": [
    "df_precision = df_data_to_plot[['sourceArtworkId', 'ratedArtworkId']].drop_duplicates()\n",
    "df_precision.shape"
   ]
  },
  {
   "cell_type": "code",
   "execution_count": null,
   "metadata": {},
   "outputs": [],
   "source": [
    "df_precision.head()"
   ]
  },
  {
   "cell_type": "code",
   "execution_count": null,
   "metadata": {},
   "outputs": [],
   "source": [
    "def define_hit(row, df):\n",
    "\n",
    "    agree_rate = 0\n",
    "    disagree_rate = 0\n",
    "    \n",
    "    #Check if there is no vote for agree or disagree \n",
    "    if df[(df['sourceArtworkId'] == row['sourceArtworkId']) & (df['ratedArtworkId'] == row['ratedArtworkId']) & (df['rating'] == 'Agree')]['count'].shape[0] != 0:\n",
    "        agree_rate = df[(df['sourceArtworkId'] == row['sourceArtworkId']) & (df['ratedArtworkId'] == row['ratedArtworkId']) & (df['rating'] == 'Agree')]['count'].values[0]\n",
    "    if df[(df['sourceArtworkId'] == row['sourceArtworkId']) & (df['ratedArtworkId'] == row['ratedArtworkId']) & (df['rating'] == 'Disagree')]['count'].shape[0] != 0:\n",
    "        disagree_rate = df[(df['sourceArtworkId'] == row['sourceArtworkId']) & (df['ratedArtworkId'] == row['ratedArtworkId']) & (df['rating'] == 'Disagree')]['count'].values[0]\n",
    "    \n",
    "    if agree_rate > disagree_rate:\n",
    "        return 1\n",
    "    elif agree_rate < disagree_rate:\n",
    "        return 0\n",
    "    else:\n",
    "        return 1"
   ]
  },
  {
   "cell_type": "code",
   "execution_count": null,
   "metadata": {},
   "outputs": [],
   "source": [
    "df_precision['y_true'] = df_precision.apply(define_hit, axis=1, df=df_data_to_plot)\n",
    "df_precision['y_pred'] = 1\n",
    "df_precision.head()"
   ]
  },
  {
   "cell_type": "markdown",
   "metadata": {},
   "source": [
    "**Select artwork**"
   ]
  },
  {
   "cell_type": "code",
   "execution_count": null,
   "metadata": {},
   "outputs": [],
   "source": [
    "import os\n",
    "import json\n",
    "\n",
    "with open(os.path.join(experiment_config['base_path'], 'experimentData.json')) as json_file:\n",
    "            data_dict = json.loads(json_file.read())\n",
    "\n",
    "sim_artworks = data_dict['sim_artworks']\n",
    "\n",
    "artworks_id = []\n",
    "for s_artwork in sim_artworks:\n",
    "    artworks_id.append(s_artwork['id'])\n",
    "\n",
    "artworks_id[:5]"
   ]
  },
  {
   "cell_type": "code",
   "execution_count": null,
   "metadata": {},
   "outputs": [],
   "source": [
    "df_precision_7066 = df_precision[df_precision['sourceArtworkId'] == 7066]\n",
    "df_precision_7066 = df_precision_7066.set_index('ratedArtworkId')\n",
    "df_precision_7066.head()"
   ]
  },
  {
   "cell_type": "code",
   "execution_count": null,
   "metadata": {},
   "outputs": [],
   "source": [
    "df_precision_7066 = df_precision_7066.reindex(artworks_id)\n",
    "df_precision_7066.head()"
   ]
  },
  {
   "cell_type": "code",
   "execution_count": null,
   "metadata": {},
   "outputs": [],
   "source": [
    "#Precision Recall curve\n",
    "precision_recall_curve(df_precision_7066['y_true'], df_precision_7066['y_pred'])"
   ]
  },
  {
   "cell_type": "code",
   "execution_count": null,
   "metadata": {},
   "outputs": [],
   "source": [
    "k_index = [5,10,15,20, 25]\n",
    "\n",
    "prec_recall_metrics = []\n",
    "average_precision_metric = []\n",
    "for k in k_index:\n",
    "    #Compute precision and recall\n",
    "    prec_recall = precision_recall_fscore_support(\n",
    "        df_precision_7066['y_true'][:k].values, df_precision_7066['y_pred'][:k].values, average='binary')\n",
    "    prec_recall_metrics.append(prec_recall)\n",
    "    #Compute average precision\n",
    "    avr_prec = average_precision_score(\n",
    "        df_precision_7066['y_true'][:k].values, df_precision_7066['y_pred'][:k].values)\n",
    "    average_precision_metric.append(avr_prec)"
   ]
  },
  {
   "cell_type": "code",
   "execution_count": null,
   "metadata": {},
   "outputs": [],
   "source": [
    "df_metrics = pd.DataFrame(prec_recall_metrics, \n",
    "             index=k_index, columns=['precision', 'recall', 'f_score', 'support'])\n",
    "\n",
    "df_metrics['avg_precision'] = average_precision_metric\n",
    "\n",
    "df_metrics"
   ]
  },
  {
   "cell_type": "code",
   "execution_count": null,
   "metadata": {},
   "outputs": [],
   "source": [
    "df_metrics.to_csv(experiment_config['type'] +'_metrics.csv', index=True)"
   ]
  },
  {
   "cell_type": "code",
   "execution_count": null,
   "metadata": {},
   "outputs": [],
   "source": []
  },
  {
   "cell_type": "markdown",
   "metadata": {},
   "source": [
    "**Precission and Recall for each artwork**"
   ]
  },
  {
   "cell_type": "code",
   "execution_count": null,
   "metadata": {},
   "outputs": [],
   "source": [
    "prec_recall_metrics = []\n",
    "for artwork_id in reference_artworks:\n",
    "    df = df_precision[df_precision['sourceArtworkId']==artwork_id]\n",
    "    prec_recall = precision_recall_fscore_support(df['y_true'], df['y_pred'], average='binary')\n",
    "    prec_recall_metrics.append(prec_recall)"
   ]
  },
  {
   "cell_type": "code",
   "execution_count": null,
   "metadata": {},
   "outputs": [],
   "source": [
    "pd.DataFrame(prec_recall_metrics, index=reference_artworks, columns=['precision', 'recall', 'f_score', 'support'])"
   ]
  }
 ],
 "metadata": {
  "kernelspec": {
   "display_name": "Python 3",
   "language": "python",
   "name": "python3"
  },
  "language_info": {
   "codemirror_mode": {
    "name": "ipython",
    "version": 3
   },
   "file_extension": ".py",
   "mimetype": "text/x-python",
   "name": "python",
   "nbconvert_exporter": "python",
   "pygments_lexer": "ipython3",
   "version": "3.5.2"
  }
 },
 "nbformat": 4,
 "nbformat_minor": 2
}
