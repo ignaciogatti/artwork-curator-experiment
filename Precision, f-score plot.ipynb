{
 "cells": [
  {
   "cell_type": "markdown",
   "metadata": {},
   "source": [
    "## Plot metrics"
   ]
  },
  {
   "cell_type": "code",
   "execution_count": null,
   "metadata": {},
   "outputs": [],
   "source": [
    "import numpy as np\n",
    "import pandas as pd\n",
    "import matplotlib.pyplot as plt\n",
    "import matplotlib.pylab as plb\n",
    "import seaborn as sns\n",
    "import os "
   ]
  },
  {
   "cell_type": "code",
   "execution_count": null,
   "metadata": {},
   "outputs": [],
   "source": [
    "PLOT_PATH = '/root/work/rating analysis/plots'"
   ]
  },
  {
   "cell_type": "markdown",
   "metadata": {},
   "source": [
    "### Load data"
   ]
  },
  {
   "cell_type": "code",
   "execution_count": null,
   "metadata": {},
   "outputs": [],
   "source": [
    "encode_metrics = pd.read_csv('./encode_metrics.csv', index_col=0)\n",
    "encode_metrics"
   ]
  },
  {
   "cell_type": "code",
   "execution_count": null,
   "metadata": {},
   "outputs": [],
   "source": [
    "social_graph_metrics = pd.read_csv('./social_graph_metrics.csv', index_col=0)\n",
    "social_graph_metrics"
   ]
  },
  {
   "cell_type": "code",
   "execution_count": null,
   "metadata": {},
   "outputs": [],
   "source": [
    "content_based_metrics = pd.read_csv('./contentBased_metrics.csv', index_col=0)\n",
    "content_based_metrics"
   ]
  },
  {
   "cell_type": "code",
   "execution_count": null,
   "metadata": {},
   "outputs": [],
   "source": [
    "series = [(encode_metrics, 'encode'), (social_graph_metrics, 'social+encode'), (content_based_metrics, 'content based')]"
   ]
  },
  {
   "cell_type": "markdown",
   "metadata": {},
   "source": [
    "## Plot"
   ]
  },
  {
   "cell_type": "code",
   "execution_count": null,
   "metadata": {},
   "outputs": [],
   "source": [
    "def plot_metric(ax, series, metric_label, title, xlabel, ylabel):\n",
    "    for df, l in series:\n",
    "        ax.plot(df[metric_label], label=l)\n",
    "    ax.set_xticks(np.arange(min(series[0][0].index), max(series[0][0].index)+1, 5.0))\n",
    "    ax.set_yticks(np.arange(0.5, 1.1, 0.1))\n",
    "    ax.set_title(title, fontsize=20)\n",
    "    ax.legend(fontsize= 14)\n",
    "    ax.set_xlabel(xlabel, fontsize=12)\n",
    "    ax.set_ylabel(ylabel, fontsize=12)\n",
    "    return ax"
   ]
  },
  {
   "cell_type": "markdown",
   "metadata": {},
   "source": [
    "**Precision**"
   ]
  },
  {
   "cell_type": "code",
   "execution_count": null,
   "metadata": {},
   "outputs": [],
   "source": [
    "fig = plt.figure(figsize=(12,10))\n",
    "ax = fig.add_subplot(111)\n",
    "ax = plot_metric(ax, series, 'precision', 'Precision@k', 'k', 'precision')\n",
    "ax.figure.savefig(os.path.join(PLOT_PATH,\"precision_k.png\"))\n",
    "plt.show()"
   ]
  },
  {
   "cell_type": "markdown",
   "metadata": {},
   "source": [
    "**F-score**"
   ]
  },
  {
   "cell_type": "code",
   "execution_count": null,
   "metadata": {},
   "outputs": [],
   "source": [
    "fig = plt.figure(figsize=(12,10))\n",
    "ax = fig.add_subplot(111)\n",
    "ax = plot_metric(ax, series, 'f_score', 'F-score@k', 'k', 'F-score')\n",
    "ax.figure.savefig(os.path.join(PLOT_PATH,\"f_score_k.png\"))\n",
    "plt.show()"
   ]
  },
  {
   "cell_type": "markdown",
   "metadata": {},
   "source": [
    "**Mean average precision**"
   ]
  },
  {
   "cell_type": "code",
   "execution_count": null,
   "metadata": {},
   "outputs": [],
   "source": [
    "fig = plt.figure(figsize=(12,10))\n",
    "ax = fig.add_subplot(111)\n",
    "ax = plot_metric(ax, series, 'avg_precision', 'Mean Average Precision', 'k', 'average precision')\n",
    "ax.figure.savefig(os.path.join(PLOT_PATH,\"avg_precision.png\"))\n",
    "plt.show()"
   ]
  },
  {
   "cell_type": "markdown",
   "metadata": {},
   "source": [
    "**All in one figure**"
   ]
  },
  {
   "cell_type": "code",
   "execution_count": null,
   "metadata": {},
   "outputs": [],
   "source": [
    "fig = plt.figure(figsize=(12,10))\n",
    "#Precision\n",
    "ax = fig.add_subplot(221)\n",
    "ax = plot_metric(ax, series, 'precision', 'Precision@k', 'k', 'precision')\n",
    "\n",
    "\n",
    "# F1-score\n",
    "ax = fig.add_subplot(222)\n",
    "ax = plot_metric(ax, series, 'f_score', 'F-score@k', 'k', 'F-score')\n",
    "\n",
    "\n",
    "#Average Precision\n",
    "ax = fig.add_subplot(212)\n",
    "ax = plot_metric(ax, series, 'avg_precision', 'Mean Average Precision', 'k', 'average precision')\n",
    "plt.show()"
   ]
  },
  {
   "cell_type": "code",
   "execution_count": null,
   "metadata": {},
   "outputs": [],
   "source": [
    "fig.savefig(os.path.join(PLOT_PATH,\"all-metrics.png\"),dpi=100)"
   ]
  }
 ],
 "metadata": {
  "kernelspec": {
   "display_name": "Python 3",
   "language": "python",
   "name": "python3"
  },
  "language_info": {
   "codemirror_mode": {
    "name": "ipython",
    "version": 3
   },
   "file_extension": ".py",
   "mimetype": "text/x-python",
   "name": "python",
   "nbconvert_exporter": "python",
   "pygments_lexer": "ipython3",
   "version": "3.5.2"
  }
 },
 "nbformat": 4,
 "nbformat_minor": 2
}
