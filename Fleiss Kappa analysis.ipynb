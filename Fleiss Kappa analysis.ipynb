{
 "cells": [
  {
   "cell_type": "code",
   "execution_count": 1,
   "metadata": {},
   "outputs": [],
   "source": [
    "import numpy as np\n",
    "import pandas as pd"
   ]
  },
  {
   "cell_type": "markdown",
   "metadata": {},
   "source": [
    "## Load data"
   ]
  },
  {
   "cell_type": "code",
   "execution_count": null,
   "metadata": {},
   "outputs": [],
   "source": [
    "df_data = pd.read_csv('ratings.csv')\n",
    "df_data.head()"
   ]
  },
  {
   "cell_type": "markdown",
   "metadata": {},
   "source": [
    "**Split data by approach**"
   ]
  },
  {
   "cell_type": "code",
   "execution_count": null,
   "metadata": {},
   "outputs": [],
   "source": [
    "encode_config = {\n",
    "    'name': 'Autoencoder algorithm',\n",
    "    'type': 'encode',\n",
    "    'base_path': './encode_data'\n",
    "}\n",
    "\n",
    "social_graph_config = {\n",
    "    'name': 'Autoencoder + Social graph data',\n",
    "    'type': 'social_graph',\n",
    "    'base_path': './social_graph_data'\n",
    "}\n",
    "\n",
    "experiment_config = social_graph_config"
   ]
  },
  {
   "cell_type": "code",
   "execution_count": null,
   "metadata": {},
   "outputs": [],
   "source": [
    "df_data_experiment = df_data[df_data['experimentType'] == experiment_config['type']]\n",
    "print( experiment_config['name'] +' shape: '+ str(df_data_experiment.shape) )"
   ]
  },
  {
   "cell_type": "markdown",
   "metadata": {},
   "source": [
    "**Get pair (source artwork, rated artwork)**"
   ]
  },
  {
   "cell_type": "code",
   "execution_count": null,
   "metadata": {},
   "outputs": [],
   "source": [
    "import os\n",
    "import json"
   ]
  },
  {
   "cell_type": "code",
   "execution_count": null,
   "metadata": {},
   "outputs": [],
   "source": [
    "def get_pairs(data_dict):\n",
    "    artworks_pair = []\n",
    "    source_artwork = data_dict['source_artwork']['id']\n",
    "\n",
    "    for artwork in data_dict['sim_artworks']:\n",
    "        artworks_pair.append((source_artwork, artwork['id']))\n",
    "\n",
    "    return artworks_pair"
   ]
  },
  {
   "cell_type": "code",
   "execution_count": null,
   "metadata": {},
   "outputs": [],
   "source": [
    "def get_subjects(base_path):\n",
    "    artworks_pair = []\n",
    "\n",
    "    for file in os.listdir(base_path):\n",
    "        with open(os.path.join(base_path, file)) as json_file:\n",
    "            data_dict = json.loads(json_file.read())\n",
    "            pairs = get_pairs(data_dict)\n",
    "            artworks_pair.append(pairs)\n",
    "    return artworks_pair"
   ]
  },
  {
   "cell_type": "code",
   "execution_count": null,
   "metadata": {},
   "outputs": [],
   "source": [
    "import os\n",
    "import json\n",
    "\n",
    "artworks_pair = get_subjects(experiment_config['base_path'])\n",
    "len(artworks_pair[1])"
   ]
  },
  {
   "cell_type": "markdown",
   "metadata": {},
   "source": [
    "## Define data as (subject, rater) format"
   ]
  },
  {
   "cell_type": "markdown",
   "metadata": {},
   "source": [
    "**Get users**"
   ]
  },
  {
   "cell_type": "code",
   "execution_count": null,
   "metadata": {},
   "outputs": [],
   "source": [
    "def get_users(df):\n",
    "    usersId = df['userId'].unique()\n",
    "    return usersId"
   ]
  },
  {
   "cell_type": "code",
   "execution_count": null,
   "metadata": {},
   "outputs": [],
   "source": [
    "usersId = get_users(df_data_experiment)\n",
    "print('Number of users: ' +  str(len(usersId)))"
   ]
  },
  {
   "cell_type": "markdown",
   "metadata": {},
   "source": [
    "**Define table**"
   ]
  },
  {
   "cell_type": "code",
   "execution_count": null,
   "metadata": {},
   "outputs": [],
   "source": [
    "def get_rating(df, userId, p):\n",
    "    r = df[(df['userId']==userId) & (df['sourceArtworkId']== p[0]) & (df['ratedArtworkId']== p[1])]['rating'].values\n",
    "    if r.shape[0] == 0 :\n",
    "        return 0\n",
    "    if r[0] == 'Agree':\n",
    "        return 1\n",
    "    else:\n",
    "        return 2\n",
    "    "
   ]
  },
  {
   "cell_type": "code",
   "execution_count": null,
   "metadata": {},
   "outputs": [],
   "source": [
    "def create_user_items_table(df, usersId, artworks_pair ):\n",
    "    default_matrix = np.zeros((usersId.shape[0], len(artworks_pair)))\n",
    "    df_table = pd.DataFrame(data=default_matrix, index=usersId, columns=artworks_pair)\n",
    "    for userId in usersId:\n",
    "        for p in artworks_pair:\n",
    "            r = get_rating(df, userId, p)\n",
    "            df_table.loc[userId][p] = r\n",
    "    \n",
    "    return df_table"
   ]
  },
  {
   "cell_type": "markdown",
   "metadata": {},
   "source": [
    "### Drop items with few ratings"
   ]
  },
  {
   "cell_type": "markdown",
   "metadata": {},
   "source": [
    "**Get mode**"
   ]
  },
  {
   "cell_type": "code",
   "execution_count": null,
   "metadata": {},
   "outputs": [],
   "source": [
    "def fill_mode(row, mode):\n",
    "    row = row.apply(lambda x : mode[row.name] if x == 0 else x)\n",
    "    return row"
   ]
  },
  {
   "cell_type": "code",
   "execution_count": null,
   "metadata": {},
   "outputs": [],
   "source": [
    "def filter_by_mode(df):\n",
    "    mode = df.mode().iloc[0]\n",
    "    mode = mode.rename(\"mode\")\n",
    "    mode_valid = mode[mode != 0]\n",
    "    df_user_item_filtered = df[list(mode_valid.index)]\n",
    "    df_user_item_filtered = df_user_item_filtered.apply(fill_mode, mode = mode_valid)\n",
    "    return df_user_item_filtered"
   ]
  },
  {
   "cell_type": "code",
   "execution_count": null,
   "metadata": {},
   "outputs": [],
   "source": [
    "data_fleiss_kappa = []\n",
    "\n",
    "for pair in artworks_pair:\n",
    "    df_user_items = create_user_items_table(df_data_experiment, usersId, pair)\n",
    "    df_analyze = filter_by_mode(df_user_items)\n",
    "    data_fleiss_kappa.append(df_analyze)\n"
   ]
  },
  {
   "cell_type": "markdown",
   "metadata": {},
   "source": [
    "**Data shape of all Dataframe**"
   ]
  },
  {
   "cell_type": "code",
   "execution_count": null,
   "metadata": {},
   "outputs": [],
   "source": [
    "for df in data_fleiss_kappa:\n",
    "    print(df.shape)"
   ]
  },
  {
   "cell_type": "markdown",
   "metadata": {},
   "source": [
    "**Check unique raters**"
   ]
  },
  {
   "cell_type": "code",
   "execution_count": null,
   "metadata": {},
   "outputs": [],
   "source": [
    "raters = []\n",
    "\n",
    "for df in data_fleiss_kappa:\n",
    "    if df.shape[1] != 0 :\n",
    "        raters.extend(list(df.index))\n",
    "\n",
    "pd.Series(raters).unique().shape"
   ]
  },
  {
   "cell_type": "markdown",
   "metadata": {},
   "source": [
    "## Krippendorff alpha"
   ]
  },
  {
   "cell_type": "code",
   "execution_count": null,
   "metadata": {},
   "outputs": [],
   "source": [
    "import krippendorff\n",
    "\n",
    "alphas = []\n",
    "\n",
    "for df in data_fleiss_kappa:\n",
    "    if df.shape[1] != 0 :\n",
    "        alpha = krippendorff.alpha(df.values)\n",
    "        alphas.append(alpha)\n",
    "alphas"
   ]
  },
  {
   "cell_type": "markdown",
   "metadata": {},
   "source": [
    "## Fleiss Kappa "
   ]
  },
  {
   "cell_type": "code",
   "execution_count": null,
   "metadata": {},
   "outputs": [],
   "source": [
    "from statsmodels.stats.inter_rater import fleiss_kappa, aggregate_raters"
   ]
  },
  {
   "cell_type": "code",
   "execution_count": null,
   "metadata": {},
   "outputs": [],
   "source": [
    "fleiss_kappa_coefficient = []\n",
    "\n",
    "for df in data_fleiss_kappa:\n",
    "    if df.shape[1] != 0 :\n",
    "        v = aggregate_raters(df.transpose())\n",
    "        coefficient = fleiss_kappa(v[0])\n",
    "        fleiss_kappa_coefficient.append(coefficient)\n",
    "\n",
    "fleiss_kappa_coefficient"
   ]
  },
  {
   "cell_type": "markdown",
   "metadata": {},
   "source": [
    "**Global Fleiss Kappa coefficient**"
   ]
  },
  {
   "cell_type": "code",
   "execution_count": null,
   "metadata": {},
   "outputs": [],
   "source": [
    "df_global = data_fleiss_kappa[0]\n",
    "\n",
    "for df in data_fleiss_kappa[1:]:\n",
    "    if df.shape[1] != 0 :\n",
    "        df_global = df_global.join(df)\n",
    "\n",
    "df_global.shape"
   ]
  },
  {
   "cell_type": "code",
   "execution_count": null,
   "metadata": {},
   "outputs": [],
   "source": [
    "v = aggregate_raters(df_global.transpose())\n",
    "global_coefficient = fleiss_kappa(v[0])\n",
    "global_coefficient"
   ]
  },
  {
   "cell_type": "markdown",
   "metadata": {},
   "source": [
    "## Summarize data"
   ]
  },
  {
   "cell_type": "code",
   "execution_count": null,
   "metadata": {},
   "outputs": [],
   "source": [
    "source_artworks_id = []\n",
    "\n",
    "for df in data_fleiss_kappa:\n",
    "    if df.shape[1] != 0 :\n",
    "        source_artworks_id.append(list(df.columns)[0][0])\n",
    "\n",
    "source_artworks_id"
   ]
  },
  {
   "cell_type": "code",
   "execution_count": null,
   "metadata": {},
   "outputs": [],
   "source": [
    "data_summarize = {\n",
    "    'artwork_id' : source_artworks_id,\n",
    "    'fleiss_kappa' : fleiss_kappa_coefficient,\n",
    "    'krippendorff_alpha' : alphas\n",
    "}\n",
    "\n",
    "df_summarize = pd.DataFrame(data_summarize)\n",
    "df_summarize"
   ]
  },
  {
   "cell_type": "markdown",
   "metadata": {},
   "source": [
    "**Save summarize**"
   ]
  },
  {
   "cell_type": "code",
   "execution_count": null,
   "metadata": {},
   "outputs": [],
   "source": [
    "df_summarize.to_csv(experiment_config['type'] + '_summarize.csv', index=False)"
   ]
  },
  {
   "cell_type": "code",
   "execution_count": null,
   "metadata": {},
   "outputs": [],
   "source": [
    "df_summarize = df_summarize.dropna()\n",
    "df_summarize"
   ]
  },
  {
   "cell_type": "markdown",
   "metadata": {},
   "source": [
    "### Plot Fleiss kappa coefficient"
   ]
  },
  {
   "cell_type": "code",
   "execution_count": null,
   "metadata": {},
   "outputs": [],
   "source": [
    "import matplotlib.pyplot as plt\n",
    "import matplotlib.pylab as plb\n",
    "import seaborn as sns"
   ]
  },
  {
   "cell_type": "code",
   "execution_count": null,
   "metadata": {},
   "outputs": [],
   "source": [
    "# Set Figure values\n",
    "fig = plt.figure(figsize=(10,8))\n",
    "fig.suptitle(experiment_config['name'], fontsize=30)\n",
    "\n",
    "sns.set(style=\"whitegrid\")\n",
    "ax = sns.barplot(x='artwork_id', y='fleiss_kappa', data=df_summarize)\n",
    "ax.set(ylim=(0, 1))\n",
    "ax.set_title('Fleiss coefficient interpretation', fontdict={'fontsize': 14, 'fontweight': 'medium'})\n",
    "ax.set_ylabel('Fleiss coefficient')\n",
    "\n",
    "# horizontal line indicating the threshold\n",
    "min_threshold = 0.4\n",
    "max_threshold = 0.6\n",
    "\n",
    "# with lines\n",
    "plt.axhline(y=min_threshold,linewidth=1, linestyle='--', color='k', alpha=0.6)\n",
    "plt.axhline(y=max_threshold,linewidth=1, linestyle='--', color='k', alpha=0.6)\n",
    "\n",
    "# with span\n",
    "plt.axhspan(min_threshold, max_threshold, facecolor='#334f8d', alpha=0.2)\n",
    "ax.text(x=-0.45, y=0.5, s='moderate agreement', alpha=0.7, color='#334f8d')\n",
    "\n",
    "# Global coefficient\n",
    "plt.axhline(y=global_coefficient,linewidth=2, linestyle='--', color='xkcd:crimson', alpha=0.7)\n",
    "ax.text(x=0.005, y=global_coefficient+0.005, s='global fleiss coefficient', alpha=1,\n",
    "        color='xkcd:crimson', fontsize=14)\n",
    "\n",
    "# Add text box\n",
    "\n",
    "textstr = '\\n'.join((\n",
    "    r'Poor agreement: $< 0$',\n",
    "    r'Slight agreement: $0.01 – 0.20$',\n",
    "    r'Fair agreement: $0.21 – 0.40$', \n",
    "    r'Moderate agreement: $0.41 – 0.60$',\n",
    "    r'Substantial agreement: $0.61 – 0.80$',\n",
    "    r'Almost perfect agreement: $0.81 – 1.0$'))\n",
    "\n",
    "# these are matplotlib.patch.Patch properties\n",
    "props = dict(boxstyle='round', facecolor='wheat', alpha=0.5)\n",
    "\n",
    "# place a text box in upper left in axes coords\n",
    "ax.text(0.5, 0.95, textstr, transform=ax.transAxes, fontsize=12,\n",
    "        verticalalignment='top', bbox=props)"
   ]
  },
  {
   "cell_type": "markdown",
   "metadata": {},
   "source": [
    "**Save plot**"
   ]
  },
  {
   "cell_type": "code",
   "execution_count": null,
   "metadata": {},
   "outputs": [],
   "source": [
    "ax.figure.savefig(experiment_config['type'] +\"_fleiss.png\")"
   ]
  },
  {
   "cell_type": "code",
   "execution_count": null,
   "metadata": {},
   "outputs": [],
   "source": []
  },
  {
   "cell_type": "markdown",
   "metadata": {},
   "source": [
    "### Plot Agree/Desagree values per artwork id"
   ]
  },
  {
   "cell_type": "code",
   "execution_count": null,
   "metadata": {},
   "outputs": [],
   "source": [
    "def get_ratings_count(df):\n",
    "    ratings_count = []\n",
    "    \n",
    "    for c in list(df.columns):\n",
    "        r = df[c].value_counts()\n",
    "        r = r.rename(c[1])\n",
    "        ratings_count.append(r)\n",
    "    \n",
    "    return ratings_count"
   ]
  },
  {
   "cell_type": "code",
   "execution_count": null,
   "metadata": {},
   "outputs": [],
   "source": [
    "def get_dataframe_to_plot(df):\n",
    "    name = list(df.columns)[0][0]\n",
    "    ratings_count = get_ratings_count(df)\n",
    "    df_ratings = pd.DataFrame(ratings_count)\n",
    "    df_ratings = df_ratings.fillna(0)\n",
    "    df_ratings = df_ratings.reset_index()\n",
    "    df_ratings = df_ratings.rename(columns={'index':'artwork id', 1.0: 'Agree', 2.0:'Desagree'})\n",
    "    df_ratings = pd.melt(df_ratings, id_vars=\"artwork id\", var_name=\"Agree\", value_name=\"Desagree\")\n",
    "    df_ratings = df_ratings.rename(columns={'index':'artwork id', 'Agree': 'rating','Desagree':'count'})\n",
    "    return df_ratings, name"
   ]
  },
  {
   "cell_type": "code",
   "execution_count": null,
   "metadata": {},
   "outputs": [],
   "source": [
    "data_to_plot = []\n",
    "artworks_reference = []\n",
    "\n",
    "for df in data_fleiss_kappa:\n",
    "    if df.shape[1] != 0 :\n",
    "        df_to_plot, name = get_dataframe_to_plot(df)\n",
    "        data_to_plot.append(df_to_plot)\n",
    "        artworks_reference.append(name)\n",
    "\n",
    "data_to_plot[2].head()"
   ]
  },
  {
   "cell_type": "code",
   "execution_count": null,
   "metadata": {},
   "outputs": [],
   "source": [
    "list(data_fleiss_kappa[0].columns)[0][0]"
   ]
  },
  {
   "cell_type": "markdown",
   "metadata": {},
   "source": [
    "**Plot figure**"
   ]
  },
  {
   "cell_type": "code",
   "execution_count": null,
   "metadata": {},
   "outputs": [],
   "source": [
    "nrows = 2\n",
    "ncols = 2\n",
    "fig, axs = plt.subplots(nrows=nrows, ncols=ncols, figsize=(15,15))\n",
    "sns.set(style=\"whitegrid\")\n",
    "\n",
    "i = 0\n",
    "j = 0\n",
    "index = 0\n",
    "\n",
    "for df in data_to_plot:\n",
    "    ax = sns.barplot(x='artwork id', y='count', hue='rating', data=df, ax=axs[i,j])\n",
    "\n",
    "    ax.set_title('Reference artwork id: '+ str(artworks_reference[index]), fontdict={'fontsize': 14, 'fontweight': 'medium'})\n",
    "    ax.set_xticklabels(ax.get_xticklabels(), rotation=90)\n",
    "    \n",
    "    index += 1\n",
    "    if j < ncols - 1 :\n",
    "        j += 1\n",
    "    else:\n",
    "        i += 1\n",
    "        j = 0\n",
    "\n",
    "fig.tight_layout()\n",
    "plt.show()"
   ]
  },
  {
   "cell_type": "markdown",
   "metadata": {},
   "source": [
    "**Save plot**"
   ]
  },
  {
   "cell_type": "code",
   "execution_count": null,
   "metadata": {},
   "outputs": [],
   "source": [
    "fig.savefig(experiment_config['type'] +\"_hits.png\", dpi=100)"
   ]
  }
 ],
 "metadata": {
  "kernelspec": {
   "display_name": "Python 3",
   "language": "python",
   "name": "python3"
  },
  "language_info": {
   "codemirror_mode": {
    "name": "ipython",
    "version": 3
   },
   "file_extension": ".py",
   "mimetype": "text/x-python",
   "name": "python",
   "nbconvert_exporter": "python",
   "pygments_lexer": "ipython3",
   "version": "3.5.2"
  }
 },
 "nbformat": 4,
 "nbformat_minor": 2
}
