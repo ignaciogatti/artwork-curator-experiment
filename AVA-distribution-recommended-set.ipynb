{
 "cells": [
  {
   "cell_type": "markdown",
   "metadata": {},
   "source": [
    "# AVA distribution for the recommended set"
   ]
  },
  {
   "cell_type": "code",
   "execution_count": null,
   "metadata": {},
   "outputs": [],
   "source": [
    "import numpy as np\n",
    "import pandas as pd"
   ]
  },
  {
   "cell_type": "code",
   "execution_count": null,
   "metadata": {},
   "outputs": [],
   "source": [
    "encode_config = {\n",
    "    'name': 'Autoencoder algorithm',\n",
    "    'type': 'encode',\n",
    "    'base_path': './encode_data'\n",
    "}\n",
    "\n",
    "social_graph_config = {\n",
    "    'name': 'Autoencoder + Social graph data',\n",
    "    'type': 'social_graph',\n",
    "    'base_path': './social_graph_data'\n",
    "}\n",
    "\n",
    "content_based_config = {\n",
    "    'name': 'content-based data',\n",
    "    'type': 'cotent_based',\n",
    "    'base_path': './content_based_data'\n",
    "}\n",
    "\n",
    "PLOT_PATH = '/root/work/rating analysis/plots'\n",
    "\n",
    "experiment_configs = [encode_config, social_graph_config, content_based_config]"
   ]
  },
  {
   "cell_type": "markdown",
   "metadata": {},
   "source": [
    "## Load data"
   ]
  },
  {
   "cell_type": "code",
   "execution_count": null,
   "metadata": {},
   "outputs": [],
   "source": [
    "df_metadata = pd.read_csv('/root/work/datasets/train_mayors_style_encoded_with_url.csv')\n",
    "df_metadata.head()"
   ]
  },
  {
   "cell_type": "markdown",
   "metadata": {},
   "source": [
    "**Get pair (source artwork, rated artwork)**"
   ]
  },
  {
   "cell_type": "code",
   "execution_count": null,
   "metadata": {},
   "outputs": [],
   "source": [
    "import os\n",
    "import json"
   ]
  },
  {
   "cell_type": "code",
   "execution_count": null,
   "metadata": {},
   "outputs": [],
   "source": [
    "def get_pairs(data_dict):\n",
    "    artworks_pair = []\n",
    "    source_artwork = data_dict['source_artwork']['id']\n",
    "\n",
    "    for artwork in data_dict['sim_artworks']:\n",
    "        artworks_pair.append((source_artwork, artwork['id']))\n",
    "\n",
    "    return artworks_pair"
   ]
  },
  {
   "cell_type": "code",
   "execution_count": null,
   "metadata": {},
   "outputs": [],
   "source": [
    "def get_subjects(base_path):\n",
    "    artworks_pair = []\n",
    "\n",
    "    for file in os.listdir(base_path):\n",
    "        if not(os.path.isdir(os.path.join(base_path, file))):\n",
    "            with open(os.path.join(base_path, file)) as json_file:\n",
    "                data_dict = json.loads(json_file.read())\n",
    "                pairs = get_pairs(data_dict)\n",
    "                artworks_pair.append(pairs)\n",
    "    return artworks_pair"
   ]
  },
  {
   "cell_type": "code",
   "execution_count": null,
   "metadata": {},
   "outputs": [],
   "source": [
    "artworks_pairs = {}\n",
    "\n",
    "for config in experiment_configs:\n",
    "    artworks_pair = get_subjects(config['base_path'])\n",
    "    artworks_pairs[config['name']] = artworks_pair\n"
   ]
  },
  {
   "cell_type": "code",
   "execution_count": null,
   "metadata": {},
   "outputs": [],
   "source": [
    "len(list(artworks_pairs.keys()))"
   ]
  },
  {
   "cell_type": "markdown",
   "metadata": {},
   "source": [
    "## Find metadata for each source id"
   ]
  },
  {
   "cell_type": "code",
   "execution_count": null,
   "metadata": {},
   "outputs": [],
   "source": [
    "def find_metadata(artworks_pair, df_metadata):\n",
    "    targets_artworks_metadata = []\n",
    "    for artwork_pair in artworks_pair:\n",
    "        df = df_metadata.iloc[[target_id for source_id, target_id in artwork_pair]]\n",
    "        targets_artworks_metadata.append(df)\n",
    "        \n",
    "    return targets_artworks_metadata\n"
   ]
  },
  {
   "cell_type": "markdown",
   "metadata": {},
   "source": [
    "## Plot diversity"
   ]
  },
  {
   "cell_type": "code",
   "execution_count": null,
   "metadata": {},
   "outputs": [],
   "source": [
    "import matplotlib.pyplot as plt\n",
    "import matplotlib.pylab as plb\n",
    "import seaborn as sns"
   ]
  },
  {
   "cell_type": "markdown",
   "metadata": {},
   "source": [
    "**Get the target metadata for each configuration to plot**"
   ]
  },
  {
   "cell_type": "code",
   "execution_count": null,
   "metadata": {},
   "outputs": [],
   "source": [
    "index = 0\n",
    "targets_artworks_to_plot = {}\n",
    "\n",
    "for name, artworks_pair in artworks_pairs.items():\n",
    "    print(name)\n",
    "    reference_index = artworks_pair[index][0][0]\n",
    "    targets_artworks_metadata = find_metadata(artworks_pair, df_metadata)\n",
    "    df_target = targets_artworks_metadata[index]\n",
    "    targets_artworks_to_plot[name] = df_target\n"
   ]
  },
  {
   "cell_type": "markdown",
   "metadata": {},
   "source": [
    "**Auxiliar plot function**"
   ]
  },
  {
   "cell_type": "code",
   "execution_count": null,
   "metadata": {},
   "outputs": [],
   "source": [
    "def plot_distribution(df, index, axs, name, j, i):\n",
    "    g = sns.barplot(df.count().index, df.count().values, ax=axs[j, i])\n",
    "    g.set_xticklabels(g.get_xticklabels(), rotation=90)\n",
    "    g.yaxis.set_ticks(np.arange(0, 20, 2))\n",
    "    g.set_title(name.capitalize() + ' \\n Artwork id: '+ str(index), fontdict={'fontsize': 15, 'fontweight': 'medium'})\n",
    "    return g"
   ]
  },
  {
   "cell_type": "markdown",
   "metadata": {},
   "source": [
    "### Style and genre distribution"
   ]
  },
  {
   "cell_type": "code",
   "execution_count": null,
   "metadata": {},
   "outputs": [],
   "source": [
    "nrows = 2\n",
    "ncols = len(targets_artworks_to_plot)\n",
    "fig, axs = plt.subplots(nrows=nrows, ncols=ncols, figsize=(16,10))\n",
    "sns.set(style=\"whitegrid\")\n",
    "\n",
    "i = 0\n",
    "j = 0\n",
    "\n",
    "for feature in ['style', 'genre']:\n",
    "    for name, df_target in targets_artworks_to_plot.items():\n",
    "        df = df_target.groupby(feature)[feature]\n",
    "\n",
    "        g = plot_distribution(df, reference_index, axs, name, i, j)\n",
    "        j += 1\n",
    "    i += 1\n",
    "    j = 0\n",
    "\n",
    "        \n",
    "fig.tight_layout()\n",
    "plt.show()"
   ]
  },
  {
   "cell_type": "code",
   "execution_count": null,
   "metadata": {},
   "outputs": [],
   "source": [
    "fig.savefig(os.path.join(PLOT_PATH,\"style_genre_dist.png\"), dpi=100)"
   ]
  },
  {
   "cell_type": "markdown",
   "metadata": {},
   "source": [
    "## Analyse diversity"
   ]
  },
  {
   "cell_type": "markdown",
   "metadata": {},
   "source": [
    "**Base function to analyse different aspects of the recommended set**"
   ]
  },
  {
   "cell_type": "code",
   "execution_count": null,
   "metadata": {},
   "outputs": [],
   "source": [
    "def base_diversity_analysis(artworks_pairs, feature, analysis_function):\n",
    "    '''\n",
    "    artworks_pair => [(name, [(source_artwork, target_artwork), ... ]), ... ]\n",
    "    feature => feature to analyze(e.g. style, genre)\n",
    "    analysis_function => function to apply to the data\n",
    "    '''\n",
    "    #Define columns data\n",
    "    feature_target_list = []\n",
    "    algorithm_name_list = []\n",
    "    reference_index_list = []\n",
    "    #Recolect data\n",
    "    for name, artworks_pair in artworks_pairs.items():\n",
    "        print(name)\n",
    "        for index in range(len(artworks_pair)):\n",
    "            reference_index = artworks_pair[index][0][0]\n",
    "            targets_artworks_metadata = find_metadata(artworks_pair, df_metadata)\n",
    "            df_target = targets_artworks_metadata[index]\n",
    "            feature_target_list.append(analysis_function(df_target, feature))\n",
    "            algorithm_name_list.append(name)\n",
    "            reference_index_list.append(reference_index)\n",
    "    \n",
    "    #Put into a dataframe to plot\n",
    "    data = {\n",
    "    feature: feature_target_list,\n",
    "    'algorithm name': algorithm_name_list,\n",
    "    'artwork reference index': reference_index_list\n",
    "    \n",
    "    }\n",
    "    df_max = pd.DataFrame(data)\n",
    "    return df_max"
   ]
  },
  {
   "cell_type": "code",
   "execution_count": null,
   "metadata": {},
   "outputs": [],
   "source": [
    "def plot_diversity_analysis(df_data_to_plot, title):\n",
    "    nrows = 1\n",
    "    ncols = 2\n",
    "    fig, axs = plt.subplots(nrows=nrows, ncols=ncols, figsize=(12,8))\n",
    "    sns.set(style=\"whitegrid\")\n",
    "\n",
    "    i = 0\n",
    "    j = 0\n",
    "\n",
    "    for feature in ['style', 'genre']:\n",
    "        g = sns.barplot(x='artwork reference index', y=feature, hue='algorithm name', data=df_data_to_plot[i], ax=axs[j])\n",
    "        g.set_title(title+feature, fontdict={'fontsize': 16, 'fontweight': 'medium'})\n",
    "        j += 1\n",
    "        i +=1\n",
    "\n",
    "\n",
    "    fig.tight_layout()\n",
    "    return fig"
   ]
  },
  {
   "cell_type": "code",
   "execution_count": null,
   "metadata": {},
   "outputs": [],
   "source": [
    "same_feature_reference_artwork = lambda df,feature : df[feature].value_counts().max()/25\n",
    "\n",
    "df_max_style = base_diversity_analysis(artworks_pairs, 'style', same_feature_reference_artwork)\n",
    "df_max_genre = base_diversity_analysis(artworks_pairs, 'genre', same_feature_reference_artwork)\n",
    "df_data_to_plot = [df_max_style, df_max_genre]\n",
    "fig = plot_diversity_analysis(df_data_to_plot, 'Percentage of the recommendations \\n that match with the reference ')\n",
    "plt.show()"
   ]
  },
  {
   "cell_type": "code",
   "execution_count": null,
   "metadata": {},
   "outputs": [],
   "source": [
    "fig.savefig(os.path.join(PLOT_PATH,\"style_genre_specialization.png\"), dpi=100)"
   ]
  },
  {
   "cell_type": "code",
   "execution_count": null,
   "metadata": {},
   "outputs": [],
   "source": [
    "same_feature_reference_artwork = lambda df,feature : len(df[feature].value_counts())\n",
    "\n",
    "df_max_style = base_diversity_analysis(artworks_pairs, 'style', same_feature_reference_artwork)\n",
    "df_max_genre = base_diversity_analysis(artworks_pairs, 'genre', same_feature_reference_artwork)\n",
    "df_data_to_plot = [df_max_style, df_max_genre]\n",
    "fig = plot_diversity_analysis(df_data_to_plot, 'Amount of the recommendations \\n that vary from the reference ')\n",
    "plt.show()"
   ]
  },
  {
   "cell_type": "code",
   "execution_count": null,
   "metadata": {},
   "outputs": [],
   "source": [
    "fig.savefig(os.path.join(PLOT_PATH,\"style_genre_diversity.png\"), dpi=100)"
   ]
  }
 ],
 "metadata": {
  "kernelspec": {
   "display_name": "Python 3",
   "language": "python",
   "name": "python3"
  },
  "language_info": {
   "codemirror_mode": {
    "name": "ipython",
    "version": 3
   },
   "file_extension": ".py",
   "mimetype": "text/x-python",
   "name": "python",
   "nbconvert_exporter": "python",
   "pygments_lexer": "ipython3",
   "version": "3.5.2"
  }
 },
 "nbformat": 4,
 "nbformat_minor": 2
}
