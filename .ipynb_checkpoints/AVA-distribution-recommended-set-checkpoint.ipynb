{
 "cells": [
  {
   "cell_type": "markdown",
   "metadata": {},
   "source": [
    "# AVA distribution for the recommended set"
   ]
  },
  {
   "cell_type": "code",
   "execution_count": 1,
   "metadata": {},
   "outputs": [],
   "source": [
    "import numpy as np\n",
    "import pandas as pd"
   ]
  },
  {
   "cell_type": "code",
   "execution_count": 2,
   "metadata": {},
   "outputs": [],
   "source": [
    "encode_config = {\n",
    "    'name': 'Autoencoder algorithm',\n",
    "    'type': 'encode',\n",
    "    'base_path': './encode_data'\n",
    "}\n",
    "\n",
    "social_graph_config = {\n",
    "    'name': 'Autoencoder + Social graph data',\n",
    "    'type': 'social_graph',\n",
    "    'base_path': './social_graph_data'\n",
    "}\n",
    "\n",
    "PLOT_PATH = '/root/work/rating analysis/plots'\n",
    "\n",
    "experiment_config = encode_config"
   ]
  },
  {
   "cell_type": "markdown",
   "metadata": {},
   "source": [
    "## Load data"
   ]
  },
  {
   "cell_type": "code",
   "execution_count": 3,
   "metadata": {},
   "outputs": [
    {
     "data": {
      "text/html": [
       "<div>\n",
       "<style scoped>\n",
       "    .dataframe tbody tr th:only-of-type {\n",
       "        vertical-align: middle;\n",
       "    }\n",
       "\n",
       "    .dataframe tbody tr th {\n",
       "        vertical-align: top;\n",
       "    }\n",
       "\n",
       "    .dataframe thead th {\n",
       "        text-align: right;\n",
       "    }\n",
       "</style>\n",
       "<table border=\"1\" class=\"dataframe\">\n",
       "  <thead>\n",
       "    <tr style=\"text-align: right;\">\n",
       "      <th></th>\n",
       "      <th>filename</th>\n",
       "      <th>title</th>\n",
       "      <th>style</th>\n",
       "      <th>genre</th>\n",
       "      <th>date</th>\n",
       "      <th>artist</th>\n",
       "      <th>imageUrl</th>\n",
       "    </tr>\n",
       "  </thead>\n",
       "  <tbody>\n",
       "    <tr>\n",
       "      <th>0</th>\n",
       "      <td>70944.jpg</td>\n",
       "      <td>Forbidden Land</td>\n",
       "      <td>Surrealism</td>\n",
       "      <td>landscape</td>\n",
       "      <td>1937.0</td>\n",
       "      <td>Wolfgang Paalen</td>\n",
       "      <td>https://uploads6.wikiart.org/images/wolfgang-p...</td>\n",
       "    </tr>\n",
       "    <tr>\n",
       "      <th>1</th>\n",
       "      <td>99442.jpg</td>\n",
       "      <td>Storm at sea</td>\n",
       "      <td>Romanticism</td>\n",
       "      <td>marina</td>\n",
       "      <td>1873</td>\n",
       "      <td>Ivan Aivazovsky</td>\n",
       "      <td>https://uploads4.wikiart.org/images/ivan-aivaz...</td>\n",
       "    </tr>\n",
       "    <tr>\n",
       "      <th>2</th>\n",
       "      <td>28908.jpg</td>\n",
       "      <td>Yachting in the Mediterranean</td>\n",
       "      <td>Realism</td>\n",
       "      <td>genre painting</td>\n",
       "      <td>1896</td>\n",
       "      <td>Julius LeBlanc Stewart</td>\n",
       "      <td>https://uploads4.wikiart.org/images/julius-leb...</td>\n",
       "    </tr>\n",
       "    <tr>\n",
       "      <th>3</th>\n",
       "      <td>7486.jpg</td>\n",
       "      <td>Death of Eleazer</td>\n",
       "      <td>Romanticism</td>\n",
       "      <td>religious painting</td>\n",
       "      <td>1866</td>\n",
       "      <td>Gustave Dore</td>\n",
       "      <td>https://uploads5.wikiart.org/images/gustave-do...</td>\n",
       "    </tr>\n",
       "    <tr>\n",
       "      <th>4</th>\n",
       "      <td>35766.jpg</td>\n",
       "      <td>The-Deluge</td>\n",
       "      <td>Romanticism</td>\n",
       "      <td>religious painting</td>\n",
       "      <td>NaN</td>\n",
       "      <td>Gustave Dore</td>\n",
       "      <td>https://uploads3.wikiart.org/images/gustave-do...</td>\n",
       "    </tr>\n",
       "  </tbody>\n",
       "</table>\n",
       "</div>"
      ],
      "text/plain": [
       "    filename                          title        style               genre  \\\n",
       "0  70944.jpg                 Forbidden Land   Surrealism           landscape   \n",
       "1  99442.jpg                   Storm at sea  Romanticism              marina   \n",
       "2  28908.jpg  Yachting in the Mediterranean      Realism      genre painting   \n",
       "3   7486.jpg               Death of Eleazer  Romanticism  religious painting   \n",
       "4  35766.jpg                     The-Deluge  Romanticism  religious painting   \n",
       "\n",
       "     date                  artist  \\\n",
       "0  1937.0         Wolfgang Paalen   \n",
       "1    1873         Ivan Aivazovsky   \n",
       "2    1896  Julius LeBlanc Stewart   \n",
       "3    1866            Gustave Dore   \n",
       "4     NaN            Gustave Dore   \n",
       "\n",
       "                                            imageUrl  \n",
       "0  https://uploads6.wikiart.org/images/wolfgang-p...  \n",
       "1  https://uploads4.wikiart.org/images/ivan-aivaz...  \n",
       "2  https://uploads4.wikiart.org/images/julius-leb...  \n",
       "3  https://uploads5.wikiart.org/images/gustave-do...  \n",
       "4  https://uploads3.wikiart.org/images/gustave-do...  "
      ]
     },
     "execution_count": 3,
     "metadata": {},
     "output_type": "execute_result"
    }
   ],
   "source": [
    "df_metadata = pd.read_csv('./train_mayors_style_encoded_with_url.csv')\n",
    "df_metadata.head()"
   ]
  },
  {
   "cell_type": "markdown",
   "metadata": {},
   "source": [
    "**Get pair (source artwork, rated artwork)**"
   ]
  },
  {
   "cell_type": "code",
   "execution_count": 4,
   "metadata": {},
   "outputs": [],
   "source": [
    "import os\n",
    "import json"
   ]
  },
  {
   "cell_type": "code",
   "execution_count": 5,
   "metadata": {},
   "outputs": [],
   "source": [
    "def get_pairs(data_dict):\n",
    "    artworks_pair = []\n",
    "    source_artwork = data_dict['source_artwork']['id']\n",
    "\n",
    "    for artwork in data_dict['sim_artworks']:\n",
    "        artworks_pair.append((source_artwork, artwork['id']))\n",
    "\n",
    "    return artworks_pair"
   ]
  },
  {
   "cell_type": "code",
   "execution_count": 6,
   "metadata": {},
   "outputs": [],
   "source": [
    "def get_subjects(base_path):\n",
    "    artworks_pair = []\n",
    "\n",
    "    for file in os.listdir(base_path):\n",
    "        with open(os.path.join(base_path, file)) as json_file:\n",
    "            data_dict = json.loads(json_file.read())\n",
    "            pairs = get_pairs(data_dict)\n",
    "            artworks_pair.append(pairs)\n",
    "    return artworks_pair"
   ]
  },
  {
   "cell_type": "code",
   "execution_count": 7,
   "metadata": {},
   "outputs": [
    {
     "data": {
      "text/plain": [
       "25"
      ]
     },
     "execution_count": 7,
     "metadata": {},
     "output_type": "execute_result"
    }
   ],
   "source": [
    "artworks_pair = get_subjects(experiment_config['base_path'])\n",
    "len(artworks_pair[1])"
   ]
  },
  {
   "cell_type": "markdown",
   "metadata": {},
   "source": [
    "## Find metadata for each source id"
   ]
  },
  {
   "cell_type": "code",
   "execution_count": 8,
   "metadata": {},
   "outputs": [
    {
     "data": {
      "text/plain": [
       "5"
      ]
     },
     "execution_count": 8,
     "metadata": {},
     "output_type": "execute_result"
    }
   ],
   "source": [
    "targets_artworks_metadata = []\n",
    "for artwork_pair in artworks_pair:\n",
    "    df = df_metadata.iloc[[target_id for source_id, target_id in artwork_pair]]\n",
    "    targets_artworks_metadata.append(df)\n",
    "\n",
    "len(targets_artworks_metadata)"
   ]
  },
  {
   "cell_type": "markdown",
   "metadata": {},
   "source": [
    "## Plot diversity"
   ]
  },
  {
   "cell_type": "code",
   "execution_count": 9,
   "metadata": {},
   "outputs": [],
   "source": [
    "import matplotlib.pyplot as plt\n",
    "import matplotlib.pylab as plb\n",
    "import seaborn as sns"
   ]
  },
  {
   "cell_type": "code",
   "execution_count": 10,
   "metadata": {},
   "outputs": [],
   "source": [
    "index = 0\n",
    "\n",
    "reference_index = artworks_pair[index][0][0]"
   ]
  },
  {
   "cell_type": "code",
   "execution_count": 11,
   "metadata": {},
   "outputs": [
    {
     "data": {
      "text/html": [
       "<div>\n",
       "<style scoped>\n",
       "    .dataframe tbody tr th:only-of-type {\n",
       "        vertical-align: middle;\n",
       "    }\n",
       "\n",
       "    .dataframe tbody tr th {\n",
       "        vertical-align: top;\n",
       "    }\n",
       "\n",
       "    .dataframe thead th {\n",
       "        text-align: right;\n",
       "    }\n",
       "</style>\n",
       "<table border=\"1\" class=\"dataframe\">\n",
       "  <thead>\n",
       "    <tr style=\"text-align: right;\">\n",
       "      <th></th>\n",
       "      <th>filename</th>\n",
       "      <th>title</th>\n",
       "      <th>style</th>\n",
       "      <th>genre</th>\n",
       "      <th>date</th>\n",
       "      <th>artist</th>\n",
       "      <th>imageUrl</th>\n",
       "    </tr>\n",
       "  </thead>\n",
       "  <tbody>\n",
       "    <tr>\n",
       "      <th>7066</th>\n",
       "      <td>40858.jpg</td>\n",
       "      <td>Waterloo Bridge</td>\n",
       "      <td>Impressionism</td>\n",
       "      <td>cityscape</td>\n",
       "      <td>1901</td>\n",
       "      <td>Claude Monet</td>\n",
       "      <td>https://uploads4.wikiart.org/images/claude-mon...</td>\n",
       "    </tr>\n",
       "    <tr>\n",
       "      <th>30499</th>\n",
       "      <td>91583.jpg</td>\n",
       "      <td>Happyness of meeting</td>\n",
       "      <td>Romanticism</td>\n",
       "      <td>marina</td>\n",
       "      <td>1903</td>\n",
       "      <td>Lev Lagorio</td>\n",
       "      <td>https://uploads8.wikiart.org/images/lev-lagori...</td>\n",
       "    </tr>\n",
       "    <tr>\n",
       "      <th>26355</th>\n",
       "      <td>28538.jpg</td>\n",
       "      <td>River floods, such as seas</td>\n",
       "      <td>Realism</td>\n",
       "      <td>sketch and study</td>\n",
       "      <td>1890.0</td>\n",
       "      <td>Ivan Shishkin</td>\n",
       "      <td>https://uploads6.wikiart.org/images/ivan-shish...</td>\n",
       "    </tr>\n",
       "    <tr>\n",
       "      <th>14825</th>\n",
       "      <td>55278.jpg</td>\n",
       "      <td>The Watering Place at Marly Le Roi Hoarfrost</td>\n",
       "      <td>Impressionism</td>\n",
       "      <td>cityscape</td>\n",
       "      <td>1875</td>\n",
       "      <td>Alfred Sisley</td>\n",
       "      <td>https://uploads7.wikiart.org/images/alfred-sis...</td>\n",
       "    </tr>\n",
       "    <tr>\n",
       "      <th>27334</th>\n",
       "      <td>93398.jpg</td>\n",
       "      <td>A boat in the sea. Crimea</td>\n",
       "      <td>Realism</td>\n",
       "      <td>marina</td>\n",
       "      <td>c.1875</td>\n",
       "      <td>Arkhip Kuindzhi</td>\n",
       "      <td>https://uploads2.wikiart.org/images/arkhip-kui...</td>\n",
       "    </tr>\n",
       "  </tbody>\n",
       "</table>\n",
       "</div>"
      ],
      "text/plain": [
       "        filename                                         title          style  \\\n",
       "7066   40858.jpg                               Waterloo Bridge  Impressionism   \n",
       "30499  91583.jpg                          Happyness of meeting    Romanticism   \n",
       "26355  28538.jpg                    River floods, such as seas        Realism   \n",
       "14825  55278.jpg  The Watering Place at Marly Le Roi Hoarfrost  Impressionism   \n",
       "27334  93398.jpg                     A boat in the sea. Crimea        Realism   \n",
       "\n",
       "                  genre    date           artist  \\\n",
       "7066          cityscape    1901     Claude Monet   \n",
       "30499            marina    1903      Lev Lagorio   \n",
       "26355  sketch and study  1890.0    Ivan Shishkin   \n",
       "14825         cityscape    1875    Alfred Sisley   \n",
       "27334            marina  c.1875  Arkhip Kuindzhi   \n",
       "\n",
       "                                                imageUrl  \n",
       "7066   https://uploads4.wikiart.org/images/claude-mon...  \n",
       "30499  https://uploads8.wikiart.org/images/lev-lagori...  \n",
       "26355  https://uploads6.wikiart.org/images/ivan-shish...  \n",
       "14825  https://uploads7.wikiart.org/images/alfred-sis...  \n",
       "27334  https://uploads2.wikiart.org/images/arkhip-kui...  "
      ]
     },
     "execution_count": 11,
     "metadata": {},
     "output_type": "execute_result"
    }
   ],
   "source": [
    "df_target = targets_artworks_metadata[index]\n",
    "df_target.head()"
   ]
  },
  {
   "cell_type": "markdown",
   "metadata": {},
   "source": [
    "**Auxiliar plot function**"
   ]
  },
  {
   "cell_type": "code",
   "execution_count": 12,
   "metadata": {},
   "outputs": [],
   "source": [
    "def plot_distribution(df, index, axs, feature, j):\n",
    "    g = sns.barplot(df.count().index, df.count().values, ax=axs[j])\n",
    "    g.set_xticklabels(g.get_xticklabels(), rotation=90)\n",
    "    g.set_title(feature.capitalize() + ' distribution for reference artwork: '+ str(index), fontdict={'fontsize': 14, 'fontweight': 'medium'})\n",
    "    return g"
   ]
  },
  {
   "cell_type": "markdown",
   "metadata": {},
   "source": [
    "### Style and genre distribution"
   ]
  },
  {
   "cell_type": "code",
   "execution_count": 13,
   "metadata": {},
   "outputs": [
    {
     "data": {
      "image/png": "[encoded data removed]",
      "text/plain": [
       "<matplotlib.figure.Figure at 0x7f8aa71380f0>"
      ]
     },
     "metadata": {},
     "output_type": "display_data"
    }
   ],
   "source": [
    "nrows = 1\n",
    "ncols = 2\n",
    "fig, axs = plt.subplots(nrows=nrows, ncols=ncols, figsize=(12,10))\n",
    "sns.set(style=\"whitegrid\")\n",
    "\n",
    "i = 0\n",
    "j = 0\n",
    "index = 0\n",
    "\n",
    "for feature in ['style', 'genre']:\n",
    "    df = df_target.groupby(feature)[feature]\n",
    "    \n",
    "    g = plot_distribution(df, reference_index, axs, feature, j)\n",
    "    j +=1\n",
    "\n",
    "fig.tight_layout()\n",
    "plt.show()"
   ]
  },
  {
   "cell_type": "code",
   "execution_count": 14,
   "metadata": {},
   "outputs": [],
   "source": [
    "fig.savefig(os.path.join(PLOT_PATH, experiment_config['type'] +\"_style_genre_dist.png\"), dpi=100)"
   ]
  }
 ],
 "metadata": {
  "kernelspec": {
   "display_name": "Python 3",
   "language": "python",
   "name": "python3"
  },
  "language_info": {
   "codemirror_mode": {
    "name": "ipython",
    "version": 3
   },
   "file_extension": ".py",
   "mimetype": "text/x-python",
   "name": "python",
   "nbconvert_exporter": "python",
   "pygments_lexer": "ipython3",
   "version": "3.5.2"
  }
 },
 "nbformat": 4,
 "nbformat_minor": 2
}
