{
 "cells": [
  {
   "cell_type": "code",
   "execution_count": 1,
   "metadata": {},
   "outputs": [],
   "source": [
    "import numpy as np\n",
    "import pandas as pd"
   ]
  },
  {
   "cell_type": "markdown",
   "metadata": {},
   "source": [
    "## Load data"
   ]
  },
  {
   "cell_type": "code",
   "execution_count": 2,
   "metadata": {},
   "outputs": [
    {
     "data": {
      "text/html": [
       "<div>\n",
       "<style scoped>\n",
       "    .dataframe tbody tr th:only-of-type {\n",
       "        vertical-align: middle;\n",
       "    }\n",
       "\n",
       "    .dataframe tbody tr th {\n",
       "        vertical-align: top;\n",
       "    }\n",
       "\n",
       "    .dataframe thead th {\n",
       "        text-align: right;\n",
       "    }\n",
       "</style>\n",
       "<table border=\"1\" class=\"dataframe\">\n",
       "  <thead>\n",
       "    <tr style=\"text-align: right;\">\n",
       "      <th></th>\n",
       "      <th>_id</th>\n",
       "      <th>createdAt</th>\n",
       "      <th>experimentType</th>\n",
       "      <th>id</th>\n",
       "      <th>ratedArtworkId</th>\n",
       "      <th>rating</th>\n",
       "      <th>sourceArtworkId</th>\n",
       "      <th>updatedAt</th>\n",
       "      <th>userId</th>\n",
       "    </tr>\n",
       "  </thead>\n",
       "  <tbody>\n",
       "    <tr>\n",
       "      <th>0</th>\n",
       "      <td>5d6d2ffc96c99f0008942167</td>\n",
       "      <td>2019-09-02 15:06:36.784</td>\n",
       "      <td>encode</td>\n",
       "      <td>1.063539e+24</td>\n",
       "      <td>7066</td>\n",
       "      <td>Agree</td>\n",
       "      <td>7066</td>\n",
       "      <td>2019-09-02 15:06:36.784</td>\n",
       "      <td>106353877872766676678</td>\n",
       "    </tr>\n",
       "    <tr>\n",
       "      <th>1</th>\n",
       "      <td>5d6d324d96c99f0008942168</td>\n",
       "      <td>2019-09-02 15:16:29.666</td>\n",
       "      <td>encode</td>\n",
       "      <td>1.063539e+24</td>\n",
       "      <td>30499</td>\n",
       "      <td>Agree</td>\n",
       "      <td>7066</td>\n",
       "      <td>2019-09-02 15:16:29.666</td>\n",
       "      <td>106353877872766676678</td>\n",
       "    </tr>\n",
       "    <tr>\n",
       "      <th>2</th>\n",
       "      <td>5d6d326596c99f000894216a</td>\n",
       "      <td>2019-09-02 15:16:53.417</td>\n",
       "      <td>encode</td>\n",
       "      <td>1.063539e+24</td>\n",
       "      <td>14825</td>\n",
       "      <td>Agree</td>\n",
       "      <td>7066</td>\n",
       "      <td>2019-09-02 15:16:53.417</td>\n",
       "      <td>106353877872766676678</td>\n",
       "    </tr>\n",
       "    <tr>\n",
       "      <th>3</th>\n",
       "      <td>5d6d558396c99f000894216b</td>\n",
       "      <td>2019-09-02 17:46:43.374</td>\n",
       "      <td>encode</td>\n",
       "      <td>1.071123e+24</td>\n",
       "      <td>7066</td>\n",
       "      <td>Agree</td>\n",
       "      <td>7066</td>\n",
       "      <td>2019-09-02 17:46:43.374</td>\n",
       "      <td>107112297045154154350</td>\n",
       "    </tr>\n",
       "    <tr>\n",
       "      <th>4</th>\n",
       "      <td>5d6d559396c99f000894216c</td>\n",
       "      <td>2019-09-02 17:46:59.130</td>\n",
       "      <td>encode</td>\n",
       "      <td>1.071123e+24</td>\n",
       "      <td>30499</td>\n",
       "      <td>Agree</td>\n",
       "      <td>7066</td>\n",
       "      <td>2019-09-02 17:46:59.130</td>\n",
       "      <td>107112297045154154350</td>\n",
       "    </tr>\n",
       "  </tbody>\n",
       "</table>\n",
       "</div>"
      ],
      "text/plain": [
       "                        _id                createdAt experimentType  \\\n",
       "0  5d6d2ffc96c99f0008942167  2019-09-02 15:06:36.784         encode   \n",
       "1  5d6d324d96c99f0008942168  2019-09-02 15:16:29.666         encode   \n",
       "2  5d6d326596c99f000894216a  2019-09-02 15:16:53.417         encode   \n",
       "3  5d6d558396c99f000894216b  2019-09-02 17:46:43.374         encode   \n",
       "4  5d6d559396c99f000894216c  2019-09-02 17:46:59.130         encode   \n",
       "\n",
       "             id  ratedArtworkId rating  sourceArtworkId  \\\n",
       "0  1.063539e+24            7066  Agree             7066   \n",
       "1  1.063539e+24           30499  Agree             7066   \n",
       "2  1.063539e+24           14825  Agree             7066   \n",
       "3  1.071123e+24            7066  Agree             7066   \n",
       "4  1.071123e+24           30499  Agree             7066   \n",
       "\n",
       "                 updatedAt                 userId  \n",
       "0  2019-09-02 15:06:36.784  106353877872766676678  \n",
       "1  2019-09-02 15:16:29.666  106353877872766676678  \n",
       "2  2019-09-02 15:16:53.417  106353877872766676678  \n",
       "3  2019-09-02 17:46:43.374  107112297045154154350  \n",
       "4  2019-09-02 17:46:59.130  107112297045154154350  "
      ]
     },
     "execution_count": 2,
     "metadata": {},
     "output_type": "execute_result"
    }
   ],
   "source": [
    "df_data = pd.read_csv('ratings.csv')\n",
    "df_data.head()"
   ]
  },
  {
   "cell_type": "markdown",
   "metadata": {},
   "source": [
    "**Split data by approach**"
   ]
  },
  {
   "cell_type": "code",
   "execution_count": 3,
   "metadata": {},
   "outputs": [],
   "source": [
    "encode_config = {\n",
    "    'name': 'Autoencoder algorithm',\n",
    "    'type': 'encode',\n",
    "    'base_path': './encode_data'\n",
    "}\n",
    "\n",
    "social_graph_config = {\n",
    "    'name': 'Autoencoder + Social graph data',\n",
    "    'type': 'social_graph',\n",
    "    'base_path': './social_graph_data'\n",
    "}\n",
    "\n",
    "experiment_config = social_graph_config"
   ]
  },
  {
   "cell_type": "code",
   "execution_count": 4,
   "metadata": {},
   "outputs": [
    {
     "name": "stdout",
     "output_type": "stream",
     "text": [
      "Autoencoder + Social graph data shape: (759, 9)\n"
     ]
    }
   ],
   "source": [
    "df_data_experiment = df_data[df_data['experimentType'] == experiment_config['type']]\n",
    "print( experiment_config['name'] +' shape: '+ str(df_data_experiment.shape) )"
   ]
  },
  {
   "cell_type": "markdown",
   "metadata": {},
   "source": [
    "**Get pair (source artwork, rated artwork)**"
   ]
  },
  {
   "cell_type": "code",
   "execution_count": 5,
   "metadata": {},
   "outputs": [],
   "source": [
    "import os\n",
    "import json"
   ]
  },
  {
   "cell_type": "code",
   "execution_count": 6,
   "metadata": {},
   "outputs": [],
   "source": [
    "def get_pairs(data_dict):\n",
    "    artworks_pair = []\n",
    "    source_artwork = data_dict['source_artwork']['id']\n",
    "\n",
    "    for artwork in data_dict['sim_artworks']:\n",
    "        artworks_pair.append((source_artwork, artwork['id']))\n",
    "\n",
    "    return artworks_pair"
   ]
  },
  {
   "cell_type": "code",
   "execution_count": 7,
   "metadata": {},
   "outputs": [],
   "source": [
    "def get_subjects(base_path):\n",
    "    artworks_pair = []\n",
    "\n",
    "    for file in os.listdir(base_path):\n",
    "        with open(os.path.join(base_path, file)) as json_file:\n",
    "            data_dict = json.loads(json_file.read())\n",
    "            pairs = get_pairs(data_dict)\n",
    "            artworks_pair.append(pairs)\n",
    "    return artworks_pair"
   ]
  },
  {
   "cell_type": "code",
   "execution_count": 8,
   "metadata": {},
   "outputs": [
    {
     "data": {
      "text/plain": [
       "25"
      ]
     },
     "execution_count": 8,
     "metadata": {},
     "output_type": "execute_result"
    }
   ],
   "source": [
    "import os\n",
    "import json\n",
    "\n",
    "artworks_pair = get_subjects(experiment_config['base_path'])\n",
    "len(artworks_pair[1])"
   ]
  },
  {
   "cell_type": "markdown",
   "metadata": {},
   "source": [
    "## Define data as (subject, rater) format"
   ]
  },
  {
   "cell_type": "markdown",
   "metadata": {},
   "source": [
    "**Get users**"
   ]
  },
  {
   "cell_type": "code",
   "execution_count": 9,
   "metadata": {},
   "outputs": [],
   "source": [
    "def get_users(df):\n",
    "    usersId = df['userId'].unique()\n",
    "    return usersId"
   ]
  },
  {
   "cell_type": "code",
   "execution_count": 10,
   "metadata": {},
   "outputs": [
    {
     "name": "stdout",
     "output_type": "stream",
     "text": [
      "Number of users: 14\n"
     ]
    }
   ],
   "source": [
    "usersId = get_users(df_data_experiment)\n",
    "print('Number of users: ' +  str(len(usersId)))"
   ]
  },
  {
   "cell_type": "markdown",
   "metadata": {},
   "source": [
    "**Define table**"
   ]
  },
  {
   "cell_type": "code",
   "execution_count": 11,
   "metadata": {},
   "outputs": [],
   "source": [
    "def get_rating(df, userId, p):\n",
    "    r = df[(df['userId']==userId) & (df['sourceArtworkId']== p[0]) & (df['ratedArtworkId']== p[1])]['rating'].values\n",
    "    if r.shape[0] == 0 :\n",
    "        return 0\n",
    "    if r[0] == 'Agree':\n",
    "        return 1\n",
    "    else:\n",
    "        return 2\n",
    "    "
   ]
  },
  {
   "cell_type": "code",
   "execution_count": 12,
   "metadata": {},
   "outputs": [],
   "source": [
    "def create_user_items_table(df, usersId, artworks_pair ):\n",
    "    default_matrix = np.zeros((usersId.shape[0], len(artworks_pair)))\n",
    "    df_table = pd.DataFrame(data=default_matrix, index=usersId, columns=artworks_pair)\n",
    "    for userId in usersId:\n",
    "        for p in artworks_pair:\n",
    "            r = get_rating(df, userId, p)\n",
    "            df_table.loc[userId][p] = r\n",
    "    \n",
    "    return df_table"
   ]
  },
  {
   "cell_type": "markdown",
   "metadata": {},
   "source": [
    "### Drop items with few ratings"
   ]
  },
  {
   "cell_type": "markdown",
   "metadata": {},
   "source": [
    "**Get mode**"
   ]
  },
  {
   "cell_type": "code",
   "execution_count": 13,
   "metadata": {},
   "outputs": [],
   "source": [
    "def fill_mode(row, mode):\n",
    "    row = row.apply(lambda x : mode[row.name] if x == 0 else x)\n",
    "    return row"
   ]
  },
  {
   "cell_type": "code",
   "execution_count": 14,
   "metadata": {},
   "outputs": [],
   "source": [
    "def filter_by_mode(df):\n",
    "    mode = df.mode().iloc[0]\n",
    "    mode = mode.rename(\"mode\")\n",
    "    mode_valid = mode[mode != 0]\n",
    "    df_user_item_filtered = df[list(mode_valid.index)]\n",
    "    df_user_item_filtered = df_user_item_filtered.apply(fill_mode, mode = mode_valid)\n",
    "    return df_user_item_filtered"
   ]
  },
  {
   "cell_type": "code",
   "execution_count": 15,
   "metadata": {},
   "outputs": [],
   "source": [
    "data_fleiss_kappa = []\n",
    "\n",
    "for pair in artworks_pair:\n",
    "    df_user_items = create_user_items_table(df_data_experiment, usersId, pair)\n",
    "    df_analyze = filter_by_mode(df_user_items)\n",
    "    data_fleiss_kappa.append(df_analyze)\n"
   ]
  },
  {
   "cell_type": "markdown",
   "metadata": {},
   "source": [
    "**Data shape of all Dataframe**"
   ]
  },
  {
   "cell_type": "code",
   "execution_count": 16,
   "metadata": {},
   "outputs": [
    {
     "name": "stdout",
     "output_type": "stream",
     "text": [
      "(14, 21)\n",
      "(14, 0)\n",
      "(14, 1)\n",
      "(14, 0)\n",
      "(14, 1)\n"
     ]
    }
   ],
   "source": [
    "for df in data_fleiss_kappa:\n",
    "    print(df.shape)"
   ]
  },
  {
   "cell_type": "markdown",
   "metadata": {},
   "source": [
    "**Check unique raters**"
   ]
  },
  {
   "cell_type": "code",
   "execution_count": 17,
   "metadata": {},
   "outputs": [
    {
     "data": {
      "text/plain": [
       "(14,)"
      ]
     },
     "execution_count": 17,
     "metadata": {},
     "output_type": "execute_result"
    }
   ],
   "source": [
    "raters = []\n",
    "\n",
    "for df in data_fleiss_kappa:\n",
    "    if df.shape[1] != 0 :\n",
    "        raters.extend(list(df.index))\n",
    "\n",
    "pd.Series(raters).unique().shape"
   ]
  },
  {
   "cell_type": "markdown",
   "metadata": {},
   "source": [
    "## Krippendorff alpha"
   ]
  },
  {
   "cell_type": "code",
   "execution_count": 18,
   "metadata": {},
   "outputs": [
    {
     "name": "stderr",
     "output_type": "stream",
     "text": [
      "/usr/local/lib/python3.5/dist-packages/krippendorff/krippendorff.py:261: RuntimeWarning: invalid value encountered in double_scalars\n",
      "  return 1 - np.sum(o * d) / np.sum(e * d)\n"
     ]
    },
    {
     "data": {
      "text/plain": [
       "[0.49585157583119877, nan, nan]"
      ]
     },
     "execution_count": 18,
     "metadata": {},
     "output_type": "execute_result"
    }
   ],
   "source": [
    "import krippendorff\n",
    "\n",
    "alphas = []\n",
    "\n",
    "for df in data_fleiss_kappa:\n",
    "    if df.shape[1] != 0 :\n",
    "        alpha = krippendorff.alpha(df.values)\n",
    "        alphas.append(alpha)\n",
    "alphas"
   ]
  },
  {
   "cell_type": "markdown",
   "metadata": {},
   "source": [
    "## Fleiss Kappa "
   ]
  },
  {
   "cell_type": "code",
   "execution_count": 19,
   "metadata": {},
   "outputs": [],
   "source": [
    "from statsmodels.stats.inter_rater import fleiss_kappa, aggregate_raters"
   ]
  },
  {
   "cell_type": "code",
   "execution_count": 20,
   "metadata": {},
   "outputs": [
    {
     "name": "stderr",
     "output_type": "stream",
     "text": [
      "/usr/local/lib/python3.5/dist-packages/statsmodels/stats/inter_rater.py:266: RuntimeWarning: invalid value encountered in double_scalars\n",
      "  kappa = (p_mean - p_mean_exp) / (1- p_mean_exp)\n"
     ]
    },
    {
     "data": {
      "text/plain": [
       "[0.49413093274529846, nan, nan]"
      ]
     },
     "execution_count": 20,
     "metadata": {},
     "output_type": "execute_result"
    }
   ],
   "source": [
    "fleiss_kappa_coefficient = []\n",
    "\n",
    "for df in data_fleiss_kappa:\n",
    "    if df.shape[1] != 0 :\n",
    "        v = aggregate_raters(df.transpose())\n",
    "        coefficient = fleiss_kappa(v[0])\n",
    "        fleiss_kappa_coefficient.append(coefficient)\n",
    "\n",
    "fleiss_kappa_coefficient"
   ]
  },
  {
   "cell_type": "markdown",
   "metadata": {},
   "source": [
    "**Global Fleiss Kappa coefficient**"
   ]
  },
  {
   "cell_type": "code",
   "execution_count": 21,
   "metadata": {},
   "outputs": [
    {
     "data": {
      "text/plain": [
       "(14, 23)"
      ]
     },
     "execution_count": 21,
     "metadata": {},
     "output_type": "execute_result"
    }
   ],
   "source": [
    "df_global = data_fleiss_kappa[0]\n",
    "\n",
    "for df in data_fleiss_kappa[1:]:\n",
    "    if df.shape[1] != 0 :\n",
    "        df_global = df_global.join(df)\n",
    "\n",
    "df_global.shape"
   ]
  },
  {
   "cell_type": "code",
   "execution_count": 22,
   "metadata": {},
   "outputs": [
    {
     "data": {
      "text/plain": [
       "0.5326195076947119"
      ]
     },
     "execution_count": 22,
     "metadata": {},
     "output_type": "execute_result"
    }
   ],
   "source": [
    "v = aggregate_raters(df_global.transpose())\n",
    "global_coefficient = fleiss_kappa(v[0])\n",
    "global_coefficient"
   ]
  },
  {
   "cell_type": "markdown",
   "metadata": {},
   "source": [
    "## Summarize data"
   ]
  },
  {
   "cell_type": "code",
   "execution_count": 23,
   "metadata": {},
   "outputs": [
    {
     "data": {
      "text/plain": [
       "[7066, 33965, 5629]"
      ]
     },
     "execution_count": 23,
     "metadata": {},
     "output_type": "execute_result"
    }
   ],
   "source": [
    "source_artworks_id = []\n",
    "\n",
    "for df in data_fleiss_kappa:\n",
    "    if df.shape[1] != 0 :\n",
    "        source_artworks_id.append(list(df.columns)[0][0])\n",
    "\n",
    "source_artworks_id"
   ]
  },
  {
   "cell_type": "code",
   "execution_count": 24,
   "metadata": {},
   "outputs": [
    {
     "data": {
      "text/html": [
       "<div>\n",
       "<style scoped>\n",
       "    .dataframe tbody tr th:only-of-type {\n",
       "        vertical-align: middle;\n",
       "    }\n",
       "\n",
       "    .dataframe tbody tr th {\n",
       "        vertical-align: top;\n",
       "    }\n",
       "\n",
       "    .dataframe thead th {\n",
       "        text-align: right;\n",
       "    }\n",
       "</style>\n",
       "<table border=\"1\" class=\"dataframe\">\n",
       "  <thead>\n",
       "    <tr style=\"text-align: right;\">\n",
       "      <th></th>\n",
       "      <th>artwork_id</th>\n",
       "      <th>fleiss_kappa</th>\n",
       "      <th>krippendorff_alpha</th>\n",
       "    </tr>\n",
       "  </thead>\n",
       "  <tbody>\n",
       "    <tr>\n",
       "      <th>0</th>\n",
       "      <td>7066</td>\n",
       "      <td>0.494131</td>\n",
       "      <td>0.495852</td>\n",
       "    </tr>\n",
       "    <tr>\n",
       "      <th>1</th>\n",
       "      <td>33965</td>\n",
       "      <td>NaN</td>\n",
       "      <td>NaN</td>\n",
       "    </tr>\n",
       "    <tr>\n",
       "      <th>2</th>\n",
       "      <td>5629</td>\n",
       "      <td>NaN</td>\n",
       "      <td>NaN</td>\n",
       "    </tr>\n",
       "  </tbody>\n",
       "</table>\n",
       "</div>"
      ],
      "text/plain": [
       "   artwork_id  fleiss_kappa  krippendorff_alpha\n",
       "0        7066      0.494131            0.495852\n",
       "1       33965           NaN                 NaN\n",
       "2        5629           NaN                 NaN"
      ]
     },
     "execution_count": 24,
     "metadata": {},
     "output_type": "execute_result"
    }
   ],
   "source": [
    "data_summarize = {\n",
    "    'artwork_id' : source_artworks_id,\n",
    "    'fleiss_kappa' : fleiss_kappa_coefficient,\n",
    "    'krippendorff_alpha' : alphas\n",
    "}\n",
    "\n",
    "df_summarize = pd.DataFrame(data_summarize)\n",
    "df_summarize"
   ]
  },
  {
   "cell_type": "markdown",
   "metadata": {},
   "source": [
    "**Save summarize**"
   ]
  },
  {
   "cell_type": "code",
   "execution_count": 25,
   "metadata": {},
   "outputs": [],
   "source": [
    "df_summarize.to_csv(experiment_config['type'] + '_summarize.csv', index=False)"
   ]
  },
  {
   "cell_type": "code",
   "execution_count": 26,
   "metadata": {},
   "outputs": [
    {
     "data": {
      "text/html": [
       "<div>\n",
       "<style scoped>\n",
       "    .dataframe tbody tr th:only-of-type {\n",
       "        vertical-align: middle;\n",
       "    }\n",
       "\n",
       "    .dataframe tbody tr th {\n",
       "        vertical-align: top;\n",
       "    }\n",
       "\n",
       "    .dataframe thead th {\n",
       "        text-align: right;\n",
       "    }\n",
       "</style>\n",
       "<table border=\"1\" class=\"dataframe\">\n",
       "  <thead>\n",
       "    <tr style=\"text-align: right;\">\n",
       "      <th></th>\n",
       "      <th>artwork_id</th>\n",
       "      <th>fleiss_kappa</th>\n",
       "      <th>krippendorff_alpha</th>\n",
       "    </tr>\n",
       "  </thead>\n",
       "  <tbody>\n",
       "    <tr>\n",
       "      <th>0</th>\n",
       "      <td>7066</td>\n",
       "      <td>0.494131</td>\n",
       "      <td>0.495852</td>\n",
       "    </tr>\n",
       "  </tbody>\n",
       "</table>\n",
       "</div>"
      ],
      "text/plain": [
       "   artwork_id  fleiss_kappa  krippendorff_alpha\n",
       "0        7066      0.494131            0.495852"
      ]
     },
     "execution_count": 26,
     "metadata": {},
     "output_type": "execute_result"
    }
   ],
   "source": [
    "df_summarize = df_summarize.dropna()\n",
    "df_summarize"
   ]
  },
  {
   "cell_type": "markdown",
   "metadata": {},
   "source": [
    "### Plot Fleiss kappa coefficient"
   ]
  },
  {
   "cell_type": "code",
   "execution_count": 27,
   "metadata": {},
   "outputs": [],
   "source": [
    "import matplotlib.pyplot as plt\n",
    "import matplotlib.pylab as plb\n",
    "import seaborn as sns"
   ]
  },
  {
   "cell_type": "code",
   "execution_count": 28,
   "metadata": {},
   "outputs": [
    {
     "data": {
      "text/plain": [
       "<matplotlib.text.Text at 0x7f0472449da0>"
      ]
     },
     "execution_count": 28,
     "metadata": {},
     "output_type": "execute_result"
    },
    {
     "data": {
      "image/png": "[encoded data removed]",
      "text/plain": [
       "<matplotlib.figure.Figure at 0x7f04724b49b0>"
      ]
     },
     "metadata": {},
     "output_type": "display_data"
    }
   ],
   "source": [
    "# Set Figure values\n",
    "fig = plt.figure(figsize=(10,8))\n",
    "fig.suptitle(experiment_config['name'], fontsize=30)\n",
    "\n",
    "sns.set(style=\"whitegrid\")\n",
    "ax = sns.barplot(x='artwork_id', y='fleiss_kappa', data=df_summarize)\n",
    "ax.set(ylim=(0, 1))\n",
    "ax.set_title('Fleiss coefficient interpretation', fontdict={'fontsize': 14, 'fontweight': 'medium'})\n",
    "ax.set_ylabel('Fleiss coefficient')\n",
    "\n",
    "# horizontal line indicating the threshold\n",
    "min_threshold = 0.4\n",
    "max_threshold = 0.6\n",
    "\n",
    "# with lines\n",
    "plt.axhline(y=min_threshold,linewidth=1, linestyle='--', color='k', alpha=0.6)\n",
    "plt.axhline(y=max_threshold,linewidth=1, linestyle='--', color='k', alpha=0.6)\n",
    "\n",
    "# with span\n",
    "plt.axhspan(min_threshold, max_threshold, facecolor='#334f8d', alpha=0.2)\n",
    "ax.text(x=-0.45, y=0.5, s='moderate agreement', alpha=0.7, color='#334f8d')\n",
    "\n",
    "# Global coefficient\n",
    "plt.axhline(y=global_coefficient,linewidth=2, linestyle='--', color='xkcd:crimson', alpha=0.7)\n",
    "ax.text(x=0.005, y=global_coefficient+0.005, s='global fleiss coefficient', alpha=1,\n",
    "        color='xkcd:crimson', fontsize=14)\n",
    "\n",
    "# Add text box\n",
    "\n",
    "textstr = '\\n'.join((\n",
    "    r'Poor agreement: $< 0$',\n",
    "    r'Slight agreement: $0.01 – 0.20$',\n",
    "    r'Fair agreement: $0.21 – 0.40$', \n",
    "    r'Moderate agreement: $0.41 – 0.60$',\n",
    "    r'Substantial agreement: $0.61 – 0.80$',\n",
    "    r'Almost perfect agreement: $0.81 – 1.0$'))\n",
    "\n",
    "# these are matplotlib.patch.Patch properties\n",
    "props = dict(boxstyle='round', facecolor='wheat', alpha=0.5)\n",
    "\n",
    "# place a text box in upper left in axes coords\n",
    "ax.text(0.5, 0.95, textstr, transform=ax.transAxes, fontsize=12,\n",
    "        verticalalignment='top', bbox=props)"
   ]
  },
  {
   "cell_type": "markdown",
   "metadata": {},
   "source": [
    "**Save plot**"
   ]
  },
  {
   "cell_type": "code",
   "execution_count": 29,
   "metadata": {},
   "outputs": [],
   "source": [
    "ax.figure.savefig(experiment_config['type'] +\"_fleiss.png\")"
   ]
  },
  {
   "cell_type": "code",
   "execution_count": null,
   "metadata": {},
   "outputs": [],
   "source": []
  }
 ],
 "metadata": {
  "kernelspec": {
   "display_name": "Python 3",
   "language": "python",
   "name": "python3"
  },
  "language_info": {
   "codemirror_mode": {
    "name": "ipython",
    "version": 3
   },
   "file_extension": ".py",
   "mimetype": "text/x-python",
   "name": "python",
   "nbconvert_exporter": "python",
   "pygments_lexer": "ipython3",
   "version": "3.5.2"
  }
 },
 "nbformat": 4,
 "nbformat_minor": 2
}
